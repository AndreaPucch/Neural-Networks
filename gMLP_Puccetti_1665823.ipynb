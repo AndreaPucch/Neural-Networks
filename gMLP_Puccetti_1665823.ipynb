{
  "nbformat": 4,
  "nbformat_minor": 0,
  "metadata": {
    "colab": {
      "provenance": [],
      "collapsed_sections": [
        "anc4GOpd6VUf",
        "MJmlnI6e-OsC",
        "LhdaEEVinRRb",
        "ydOntlyJ-EZY",
        "1WlO5OnRMM8V",
        "8kJQG0QjRMyK",
        "F6Of85NfU_wI",
        "uFI-_tsYVKU_",
        "3XmF0BdrsD3F",
        "FB16J0m3pYpg",
        "jBdfprvhJ_Zw"
      ],
      "toc_visible": true,
      "include_colab_link": true
    },
    "kernelspec": {
      "name": "python3",
      "display_name": "Python 3"
    },
    "language_info": {
      "name": "python"
    },
    "gpuClass": "standard",
    "accelerator": "GPU"
  },
  "cells": [
    {
      "cell_type": "markdown",
      "metadata": {
        "id": "view-in-github",
        "colab_type": "text"
      },
      "source": [
        "<a href=\"https://colab.research.google.com/github/AndreaPucch/Neural-Networks/blob/main/gMLP_Puccetti_1665823.ipynb\" target=\"_parent\"><img src=\"https://colab.research.google.com/assets/colab-badge.svg\" alt=\"Open In Colab\"/></a>"
      ]
    },
    {
      "cell_type": "markdown",
      "source": [
        "# Pay attention to MLPs\n",
        "In the paper [Pay Attention to MLPs](https://arxiv.org/pdf/2105.08050v1.pdf), a study on the necessity of self-attention modules in key language and vision applications of transformers is presented. The authors propose an attention-free, MLP-based architecture, which consists of channel projections, spatial projections and gating. The proposed architecture aims to be an alternative to transformers.\n",
        "\n"
      ],
      "metadata": {
        "id": "u6iwCiYDhEVy"
      }
    },
    {
      "cell_type": "markdown",
      "source": [
        "# imports"
      ],
      "metadata": {
        "id": "gMnNfwqWiIxD"
      }
    },
    {
      "cell_type": "code",
      "execution_count": null,
      "metadata": {
        "id": "hG3IRcMZNkc9"
      },
      "outputs": [],
      "source": [
        "import os\n",
        "import time\n",
        "import copy\n",
        "import math\n",
        "import torch\n",
        "from torch import nn, optim\n",
        "from torch.distributions.bernoulli import Bernoulli\n",
        "\n",
        "from torch.utils.data import DataLoader\n",
        "from torchvision import transforms as T\n",
        "from torchvision import models, datasets\n",
        "\n",
        "from typing import Optional\n",
        "\n",
        "# Import libraries\n",
        "import numpy as np\n",
        "import matplotlib.pyplot as plt\n",
        "\n",
        "from tqdm import tqdm\n"
      ]
    },
    {
      "cell_type": "markdown",
      "source": [
        "# gMLP model \n",
        "\n",
        "The model consists of a stack of $L$ blocks with identical structure and size. In each block, $\\odot$ refers to element-wise multiplication and all projection operations are linear.\n",
        "\n",
        "the implementation follows the pseudo-code given in the paper\n",
        "```python\n",
        "#      Pseudo-code for the gMLP block\n",
        "def gmlp_block(x, d_model, d_ffn):\n",
        "    shortcut = x\n",
        "    x = norm(x, axis=\"channel\")\n",
        "    x = proj(x, d_ffn, axis=\"channel\")\n",
        "    x = gelu(x)\n",
        "    x = spatial_gating_unit(x)\n",
        "    x = proj(x, d_model, axis=\"channel\")\n",
        "    return x + shortcut\n",
        "\n",
        "def spatial_gating_unit(x):\n",
        "    u, v = split(x, axis=\"channel\")\n",
        "    v = norm(v, axis=\"channel\")\n",
        "    n = get_dim(v, axis=\"spatial\")\n",
        "    v = proj(v, n, axis=\"spatial\", init_bias=1)\n",
        "    return u ∗ v\n",
        "```\n",
        "\n",
        "Let $X \\in R^{n \\times d}$ be the token representations with sequence length $n$ and dimension $d$, the chain of operation in each block is defined as follow:\n",
        "> $ Z = \\sigma(XU)$\n",
        "\n",
        "> $ \\bar Z = s(Z)$\n",
        "\n",
        "> $ Y = \\bar Z V$\n",
        "\n",
        "Where $\\sigma$ is defined as GELU activation function, whilst $U$ and $V$ identify linear projections along the channel dimension. $s(\\cdot)$ is the Spacial Gating Unit which performs cross-token interactions, described in the next section.\n",
        "\n",
        "### Stochastic depth\n",
        "Further in the paper (Chapter 3), the authors declare the implementation of a stochastic depth to avoid a drastical overfit of the training data. Using the stochastic depth approach, each block has a probability of $1-p$ to be bypassed during training. The probability follows the Bernoulli distribution, where samples only assume a binary value, hence either 0 or 1. This stochastic dropout does not affect the evaluation process, where the full model is used for the prediction. More detailed information at [Stochastic depth paper](https://arxiv.org/abs/1603.09382v3)."
      ],
      "metadata": {
        "id": "9PiurF9Kyimd"
      }
    },
    {
      "cell_type": "markdown",
      "source": [
        "## Spacial Gating Unit\n",
        "\n",
        "To enable cross-token interactions, the sgu layer must contain a contraction operation over the spatial dimension. The simplistic option would be a linear projection:\n",
        "\n",
        "> $ f_{W,b}(Z) = WZ + b $\n",
        "\n",
        "Where $W \\in R^{n \\times n}$ is a matrix for which the size is the same as the sequence length $n$, and $b$ refers to a bias term which can either be a matrix or a scalar.\n",
        "\n",
        "The authors define the spatial interaction unit as the element-wise multiplication of its input and the spatially transformed input:\n",
        "\n",
        "> $ s(Z) = Z \\odot f_{W,b}(Z) $\n",
        "\n",
        "The previous equation, after splitting the input into 2 independent parts $Z_1$ and $Z_2$, becomes \n",
        "\n",
        "> $ s(Z) = Z_1 \\odot f_{W,b}(Z_2) $\n",
        "\n",
        "As last note the authors declare that normalizing the input to $f_{W,b}(Z)$, empirically improves stability. \n",
        "\n",
        "***N.B.*** for the initialization of the weight matrix and the bias, this is what the authors say:\n",
        "> For training stability, we find it critical to initialize $W$ as near-zero values and $b$ as ones, meaning that $s(\\cdot)$ is approximately an identity mapping at the beginning of training. This initialization ensures each gMLP block behaves like a regular FFN at the early stage of training, where each token is processed independently, and only gradually injects spatial information across tokens."
      ],
      "metadata": {
        "id": "f-P1mpXhSRPv"
      }
    },
    {
      "cell_type": "markdown",
      "source": [
        "## Tiny Attention Layer\n",
        "The authors experiment with a hybrid model where a tiny self-attention block is attached to the gating function of gMLP. This tiny attention layer has only a single head with size $d_{attn}=64$. In the paper, this hybrid model is referred with the name aMLP, where \"a\" stands for attention. Its  implementation follows the pseudo-code given in the paper\n",
        "\n",
        "```python\n",
        "#      Pseudo-code for the Tiny Attention Layer\n",
        "def tiny_attn(x, d_ffn, d_attn=64):\n",
        "    qkv = proj(x, 3 ∗ d_attn, axis=\"channel\")\n",
        "    q, k, v = split(qkv, 3, axis=\"channel\")\n",
        "    w = einsum(\"bnd,bmd−>bnm\", q, k)\n",
        "    a = softmax(w ∗ rsqrt(d_attn))\n",
        "    x = einsum(\"bnm,bmd−>bnd\", a, v)\n",
        "return proj(x, d_ffn, axis=\"channel\")\n",
        "```\n",
        "\n",
        "In this attention layer the authors designed, query, key and value are obtained through a single linear projection act to triple the size of the input followed by a split.\n",
        "\n",
        "> **N.B.** here the authors indicate the dimension of the output as equal as the dimension of the hidden dimension of the gMLP block, but the output of the attention layer is summed and then multiply to the 2 output tensors of the SGU, which have dimension $d_{ffn} / 2$. Therefore I made this adjustment in the implementation."
      ],
      "metadata": {
        "id": "WHh2_R1DOgBr"
      }
    },
    {
      "cell_type": "markdown",
      "source": [
        "# Implementation\n",
        "Here the above defined models and layers are implemented"
      ],
      "metadata": {
        "id": "nP02XCjO_Anz"
      }
    },
    {
      "cell_type": "markdown",
      "source": [
        "## SGU Implementation\n",
        "The implementation of the sgu is not particularly complex. The parameters needed to build this block are the dimension of the input $Z$, identified by $d_Z$, and the sequence length $n$. With this information we build the wieght matrix $W$ with near-zero values and the bias array $b$ as array of ones."
      ],
      "metadata": {
        "id": "anc4GOpd6VUf"
      }
    },
    {
      "cell_type": "code",
      "source": [
        "class SGU(nn.Module):\n",
        "    def __init__(self, d_Z, n):\n",
        "        super().__init__()\n",
        "\n",
        "        # normalization layer to improve stability\n",
        "        self.norm = nn.LayerNorm([d_Z // 2])\n",
        "\n",
        "        # weight matrix with near-zero values\n",
        "        self.W = nn.Parameter(torch.zeros(n, n).uniform_(-0.01, 0.01), requires_grad=True)\n",
        "        self.b = nn.Parameter(torch.ones(n), requires_grad=True)\n",
        "\n",
        "\n",
        "    def forward(self, z):\n",
        "        # get weights and bias in the shape of the input\n",
        "        n = z.shape[0]\n",
        "        weight = self.W[:n, :n]\n",
        "        bias = self.b[:n, None, None]\n",
        "\n",
        "        # split the input in two\n",
        "        z1, z2 = torch.chunk(z, 2, dim=-1)\n",
        "\n",
        "        # normalize the input to F_wb(Z)\n",
        "        z2 = self.norm(z2)\n",
        "\n",
        "        # apply F_wb(Z) using einsum to perform the \"matrix - batch-matrix\" multiplication\n",
        "        # thanks to \n",
        "        # https://www.youtube.com/watch?v=pkVwUVEHmfI\n",
        "        # https://rockt.github.io/2018/04/30/einsum \n",
        "        # https://stackoverflow.com/questions/73119792/how-to-multiply-three-arrays-with-different-dimension-in-pytorch\n",
        "        # for a clear explanation of this very useful function\n",
        "        z2 = torch.einsum('ij,jkb->ikb', weight, z2) + bias\n",
        "\n",
        "        #return z1 and z2 separated to facilitate the implementation of the \n",
        "        #tiny attention layer\n",
        "        return z1, z2"
      ],
      "metadata": {
        "id": "wGeCAGCWoPPl"
      },
      "execution_count": null,
      "outputs": []
    },
    {
      "cell_type": "markdown",
      "source": [
        "## Tiny Attention Layer Implementation\n",
        "This layer is defined by the authors as a single-head attention with size 64. The implementation follows the pseudo-code showed in the previous section **Tiny Attention Layer**. The input is taken right after the first layer normalization of the gMLP block. The output will be summed with the processed output of the SGU, and finally multiplied by the shortcut of the SGU."
      ],
      "metadata": {
        "id": "MJmlnI6e-OsC"
      }
    },
    {
      "cell_type": "code",
      "source": [
        "class TinyAttention(nn.Module):\n",
        "    def __init__(self, d_ffn, d_attn=64):\n",
        "        super().__init__()\n",
        "\n",
        "        self.d_attn = d_attn\n",
        "        \n",
        "        #first linear projection\n",
        "        self.proj1 = nn.Linear(d_model, d_attn *3)\n",
        "\n",
        "        #second linear projection\n",
        "        self.proj2 = nn.Linear(d_attn, d_ffn // 2 )\n",
        "\n",
        "\n",
        "    def forward(self, x):\n",
        "        #apply first linear projection\n",
        "        x = self.proj1(x)\n",
        "\n",
        "        # split the input in query, key and value\n",
        "        q, k, v = torch.chunk(x, 3, dim=-1)\n",
        "\n",
        "        #compute the score w\n",
        "        w = torch.einsum('bij, bkj -> bij', q, k)\n",
        "\n",
        "        #multiply the score by  the square root of dimension of key \n",
        "        #and then apply Softmax\n",
        "        prod = w / self.d_attn\n",
        "        a = torch.nn.functional.softmax(prod, dim=-1)\n",
        "\n",
        "        #multiply by value tensor\n",
        "        x = torch.einsum('bij, bkj -> bij', a, v)\n",
        "\n",
        "        #apply last projection\n",
        "        x = self.proj2(x)\n",
        "\n",
        "        return x"
      ],
      "metadata": {
        "id": "TsKUfUy--Uyn"
      },
      "execution_count": null,
      "outputs": []
    },
    {
      "cell_type": "markdown",
      "source": [
        "## gMLP block implementation\n",
        "The implementation of the single gMLP block, follows the pseudo code presented in the section **gMLP model**. The parameters needed to build this block are the dimension of the dimension of the model $d_{model}$, the dimension of the hidden layer $d_{ffn}$ and the length of the encoded sequence in input $l_{seq}$. With this info we build the gMLP as deisgned in the pseudo code, including the SGU layer above implemented."
      ],
      "metadata": {
        "id": "LhdaEEVinRRb"
      }
    },
    {
      "cell_type": "code",
      "source": [
        "class gMLP_block(nn.Module):\n",
        "    def __init__(self, d_model, d_ffn, seq_len):\n",
        "        super().__init__()\n",
        "        #store size of the model\n",
        "        self.size = d_model\n",
        "\n",
        "        # Layer normalization\n",
        "        self.norm = nn.LayerNorm(d_model)\n",
        "\n",
        "        # GELU activation layer\n",
        "        self.gelu = nn.GELU()\n",
        "\n",
        "        # First linear channel projection\n",
        "        self.proj1 = nn.Linear(d_model, d_ffn)\n",
        "\n",
        "        # SGU layer\n",
        "        self.sgu = SGU(d_ffn, seq_len)\n",
        "\n",
        "        # Second linear channel projection\n",
        "        self.proj2 = nn.Linear(d_ffn // 2, d_model)\n",
        "\n",
        "\n",
        "    def forward(self, x):\n",
        "        #create copy of the input\n",
        "        shortcut = x.clone()\n",
        "\n",
        "        #apply normalization layer\n",
        "        z = self.norm(x)\n",
        "\n",
        "        #apply first channel projection\n",
        "        z = self.proj1(z)\n",
        "        \n",
        "        #apply GELU\n",
        "        z = self.gelu(z)\n",
        "\n",
        "        #apply SGU layer\n",
        "        z1, z2 = self.sgu(z)\n",
        "\n",
        "        #apply second channel projection\n",
        "        z = self.proj2(z1*z2)\n",
        "\n",
        "        return z + shortcut\n"
      ],
      "metadata": {
        "id": "J2vypld_mlQX"
      },
      "execution_count": null,
      "outputs": []
    },
    {
      "cell_type": "markdown",
      "source": [
        "## aMLP block implementation\n",
        "The only difference with the gMLP block is in the presence of the tiny attention layer."
      ],
      "metadata": {
        "id": "ydOntlyJ-EZY"
      }
    },
    {
      "cell_type": "code",
      "source": [
        "#TODO\n",
        "class aMLP_block(nn.Module):\n",
        "    def __init__(self, d_model, d_ffn, seq_len):\n",
        "        super().__init__()\n",
        "        #store size of the model\n",
        "        self.size = d_model\n",
        "\n",
        "        # Layer normalization\n",
        "        self.norm = nn.LayerNorm(d_model)\n",
        "\n",
        "        # Tiny attention layer\n",
        "        self.tiny_att = TinyAttention(d_ffn) \n",
        "\n",
        "        # GELU activation layer\n",
        "        self.gelu = nn.GELU()\n",
        "\n",
        "        # First linear channel projection\n",
        "        self.proj1 = nn.Linear(d_model, d_ffn)\n",
        "\n",
        "        # SGU layer\n",
        "        self.sgu = SGU(d_ffn, seq_len)\n",
        "\n",
        "        # Second linear channel projection\n",
        "        self.proj2 = nn.Linear(d_ffn // 2, d_model)\n",
        "\n",
        "\n",
        "    def forward(self, x):\n",
        "        #create copy of the input\n",
        "        shortcut = x.clone()\n",
        "\n",
        "        #apply normalization layer\n",
        "        z = self.norm(x)\n",
        "\n",
        "        #send normalized input to the tiny attention module\n",
        "        a = self.tiny_att(z)\n",
        "\n",
        "        #apply first channel projection\n",
        "        z = self.proj1(z)\n",
        "        \n",
        "        #apply GELU\n",
        "        z = self.gelu(z)\n",
        "\n",
        "        #apply SGU layer\n",
        "        z1, z2 = self.sgu(z)\n",
        "\n",
        "        #sum the attention tensor to z1 and then multiply the result by z2\n",
        "        z = (a + z1) * z2\n",
        "\n",
        "        #apply second channel projection\n",
        "        z = self.proj2(z)\n",
        "\n",
        "        return z + shortcut\n"
      ],
      "metadata": {
        "id": "88nJyTpY-B85"
      },
      "execution_count": null,
      "outputs": []
    },
    {
      "cell_type": "markdown",
      "source": [
        "## gMLP intermiadiary class\n",
        "The class gMLP is simply an intermediary class used to wrap $L$ gMLP single blocks and to implement the stochastic depth. This last one is achieved using a Bernoulli distribution from the torch.distribution module. At training time, before applying each gMLP block the Bernoulli variable determines whether or not bypassing the actual block. "
      ],
      "metadata": {
        "id": "1WlO5OnRMM8V"
      }
    },
    {
      "cell_type": "code",
      "source": [
        "class gMLP(nn.Module):\n",
        "\n",
        "    def __init__(self, L, d_model, d_ffn, seq_len, survival_prob, attention):\n",
        "        super().__init__()\n",
        "\n",
        "        # Create L gMLP blocks and put them in a list thorugh ModuleList function\n",
        "        # if attention is set to True, create L aMLP blocks\n",
        "        if attention:\n",
        "            blocksList = [aMLP_block(d_model, d_ffn, seq_len) for i in range(L)]\n",
        "        else:\n",
        "            blocksList = [gMLP_block(d_model, d_ffn, seq_len) for i in range(L)]\n",
        "\n",
        "        self.blocks = nn.ModuleList(blocksList)\n",
        "\n",
        "        # Create a Bernoulli distribution for the stochastic depth\n",
        "        self.prob = Bernoulli(survival_prob)\n",
        "\n",
        "\n",
        "    def forward(self, x):\n",
        "        for block in self.blocks:\n",
        "            #if in training mode, decide whether to bypass this block\n",
        "            #according to the value of the Bernoulli variable, obtained through sample()\n",
        "            if(self.training and self.prob.sample().item() == 0.0):\n",
        "                continue\n",
        "\n",
        "            x = block(x)\n",
        "\n",
        "        return x\n"
      ],
      "metadata": {
        "id": "u678RwVP2vjl"
      },
      "execution_count": null,
      "outputs": []
    },
    {
      "cell_type": "markdown",
      "source": [
        "## Image patch embedder\n",
        "the authors declare that the input for gMLP follows the same standards for ViT. Hence The input image is decomposed into 16x16 flatten patches and a special cls token is added in front of them.\n",
        "\n",
        "> *The input and output protocols follow ViT/B16 where the raw image is converted into 16×16 patches at the stem.*\n",
        "\n",
        "> *Our model uses exactly the same input and output format as BERT (for NLP) and ViT (for vision). For example, when finetuning on language tasks, we concatenate together multiple segments followed by paddings, and the predictions are deduced from the last-layer representation of a reserved cls\n",
        "symbol.*\n",
        "\n",
        "This can be done either using some transformation and a linear projection, or using a convolutional 2D projection and a final transformation. The second one is declared to be more performing in the original paper.\n",
        "\n",
        "---\n",
        "\n",
        "Sources:\n",
        "\n",
        "[Implementing image patches](https://sachinruk.github.io/blog/pytorch/data/2021/07/03/Image-Patches.html)\n",
        "\n",
        "[Implementing visual transformers](https://towardsdatascience.com/implementing-visualttransformer-in-pytorch-184f9f16f632)\n"
      ],
      "metadata": {
        "id": "8kJQG0QjRMyK"
      }
    },
    {
      "cell_type": "code",
      "source": [
        "class ImagePatchEmbed(nn.Module) :\n",
        "\n",
        "    def __init__(self, image_size, n_channels, patch_size, d_model):\n",
        "        super().__init__()\n",
        "\n",
        "        # the image size must be dividable by patch size with no remains\n",
        "        assert image_size % patch_size == 0\n",
        "\n",
        "        self.patch_size = patch_size\n",
        "\n",
        "        # the number of patches with size patch_size contained\n",
        "        # into an image of size image_size\n",
        "        self.n_patches = (image_size // patch_size)**2\n",
        "\n",
        "        self.n_channels = n_channels\n",
        "\n",
        "        # the amount of pixel of the concatenated patches is equal to\n",
        "        # the square power of the patch size times the number of channels \n",
        "        self.n_pixels = n_channels * patch_size**2\n",
        "\n",
        "        # fully connect layer to embed the patches from\n",
        "        # the number of pixels to the dimension of the model\n",
        "        self.proj = nn.Linear(self.n_pixels, d_model)\n",
        "\n",
        "\n",
        "    def forward(self, x):\n",
        "        # with b = batch_size, c = n_channels, s = image_size, p = patch_size\n",
        "        # initial input shape  [b, c, s, s]\n",
        "        p = self.patch_size\n",
        "\n",
        "        # input patch decomposition into \n",
        "        # [b, c, s//p, s//p, p, p]\n",
        "        x = x.unfold(2, p, p).unfold(3, p, p)\n",
        "\n",
        "        # input rearrange into \n",
        "        # [b, s//p, s//p, c, p, p]\n",
        "        x = x.permute( (0,2,3,1,4,5) )\n",
        "\n",
        "        # input reshaping into \n",
        "        # [b, n_patches, n_pixels]\n",
        "        x = x.reshape( (-1, self.n_patches, self.n_pixels) )\n",
        "\n",
        "        # apply patch embedding\n",
        "        x = self.proj(x)\n",
        "\n",
        "        return x"
      ],
      "metadata": {
        "id": "cUl_fRUVhda4"
      },
      "execution_count": null,
      "outputs": []
    },
    {
      "cell_type": "code",
      "source": [
        "class ImagePatchEmbed_conv(nn.Module) :\n",
        "\n",
        "    def __init__(self, image_size, n_channels, patch_size, d_model):\n",
        "        super().__init__()\n",
        "\n",
        "        # the image size must be dividable by patch size with no remains\n",
        "        assert image_size % patch_size == 0\n",
        "\n",
        "        self.patch_size = patch_size\n",
        "        self.d_model = d_model\n",
        "\n",
        "        # the number of patches with size patch_size contained\n",
        "        # into an image of size image_size\n",
        "        self.n_patches = (image_size // patch_size)**2\n",
        "\n",
        "        self.n_channels = n_channels\n",
        "\n",
        "        # the amount of pixel of the concatenated patches is equal to\n",
        "        # the square power of the patch size times the number of channels \n",
        "        self.n_pixels = n_channels * patch_size**2\n",
        "\n",
        "        # using a conv layer instead of a linear one -> performance gains\n",
        "        self.proj = nn.Conv2d(n_channels, d_model, kernel_size=patch_size, stride=patch_size)\n",
        "\n",
        "\n",
        "    def forward(self, x):\n",
        "        # apply convolutional projection\n",
        "        x = self.proj(x)\n",
        "\n",
        "        # with b = batch_size, d = d_model\n",
        "        # initial x shape  [b, d, h, w] \n",
        "        # input rearrange into \n",
        "        # [b, h, w, d]\n",
        "        x = x.permute( (0,2,3,1) )\n",
        "\n",
        "        # input reshaping into \n",
        "        # [b, n_patches, n_pixels]\n",
        "        x = x.reshape( (-1, self.n_patches, self.d_model) )\n",
        "\n",
        "        return x"
      ],
      "metadata": {
        "id": "OYBfRfnxMErn"
      },
      "execution_count": null,
      "outputs": []
    },
    {
      "cell_type": "markdown",
      "source": [
        "## gMLP model class\n",
        "This is the final class that wraps all of the previous described ones in order to build the gMLP model, or aMLP in case of the inclusion of the tiny attention layer. Here 3 parameters are added in order to make the model customizable regarding 3 different methodology described above.\n",
        "\n",
        "1.   **proj**. it defines the type of projection to use in the image patch embedder layer. 'linear' stands for simple linear projection, while 'conv' identifies a 2D convolutional projection\n",
        "2.   **tk_extr**. It defines what method to use to extract the token for the final classification. with 'first' only the first line is considered. With using 'mean' a reduction by mean value of the columns is performed. \n",
        "3.    **attention**. Boolean variable which tells whether or not including the tiny attention layer\n",
        "\n",
        "The 'first' token extraction method is taken from the implementation of [ViT-B16](https://pytorch.org/vision/main/_modules/torchvision/models/vision_transformer.html#vit_b_16) "
      ],
      "metadata": {
        "id": "Ph7EKoHB_z2f"
      }
    },
    {
      "cell_type": "code",
      "source": [
        "class gMLPNet(nn.Module) :\n",
        "\n",
        "    def __init__(self, image_size, n_channels, patch_size, n_classes,\n",
        "                 L, d_model, d_ffn, survival_prob, \n",
        "                 proj='linear', tk_extr='first', attention=False ):\n",
        "        super().__init__()\n",
        "\n",
        "        self.token_extraction = tk_extr\n",
        "\n",
        "        self.seq_len = (image_size // patch_size) ** 2\n",
        "\n",
        "        if proj=='conv':\n",
        "            self.patch_embedding = ImagePatchEmbed_conv(image_size, n_channels, patch_size, d_model)\n",
        "        else:\n",
        "            self.patch_embedding = ImagePatchEmbed(image_size, n_channels, patch_size, d_model)\n",
        "        \n",
        "        # COPIED from vit_b_16 code ----------------------------------\n",
        "        # Add a class token. \n",
        "        self.cls_token = nn.Parameter(torch.zeros(1, 1, d_model))\n",
        "        self.seq_len += 1\n",
        "        # ------------------------------------------------------------\n",
        "\n",
        "        # get the gMLP blocks, or aMLP if attention is set to True\n",
        "        self.gmlp = gMLP(L, d_model, d_ffn, self.seq_len, survival_prob, attention)\n",
        "\n",
        "        self.out = nn.Linear(d_model, n_classes)\n",
        "\n",
        "    \n",
        "    def forward(self, x):\n",
        "        b = x.shape[0]\n",
        "        \n",
        "        x = self.patch_embedding(x)\n",
        "\n",
        "        # COPIED from vit_b_16 code ----------------------------------\n",
        "        # Expand the class token to the full batch\n",
        "        batch_class_token = self.cls_token.expand(b, 1, -1)\n",
        "        x = torch.cat([batch_class_token, x], dim=1)\n",
        "        # ------------------------------------------------------------\n",
        "\n",
        "        x = self.gmlp(x)\n",
        "\n",
        "        # slect the method for the reduction before the final layer\n",
        "        # if 'mean' it sums over the columns and divide by the sequence length\n",
        "        # otherwise it extracts the first row (as in ViT forward method)\n",
        "        if self.token_extraction=='mean':\n",
        "            x = torch.einsum(\"bij -> bj\", x) / self.seq_len\n",
        "        else:\n",
        "            # COPIED from vit_b_16 code ----------------------------------\n",
        "            # Classifier \"token\" as used by standard language architectures\n",
        "            x = x[:, 0]\n",
        "            # ------------------------------------------------------------\n",
        "\n",
        "        x = self.out(x)\n",
        "        return x"
      ],
      "metadata": {
        "id": "yeqcXG4tMo3q"
      },
      "execution_count": null,
      "outputs": []
    },
    {
      "cell_type": "markdown",
      "source": [
        "# Dataset download and preparation\n",
        "In the application of image classification, the authors of the paper use the ImageNet dataset. It contains 14,197,122 annotated images, with a size of over 160GB. Nevertheless, due to the enourmous amount of data and the available computational hardware (i.e. Colab standard GPU), it would be unpractical and extremely time consuming to adopt the same dataset.\n",
        "\n",
        "Therefore, the Tiny ImageNet dataset is used in the implementation of this project. It will be simply retrieved by a wget to download the zip archive from the Stanford database, followed by an unzip operation to extract the archive. The dataset is basically reduced version of ImageNet, containing 100,000 training images across 200 classes, and 10,000 test images. \n",
        "\n",
        "Another very important difference of the tiny dataset is the dimension of the images. The original ImageNet dataset contains images with resolution 256x256 pixels, whilst the tiny version contains image with resolution 64x64 pixels. To overcome the different image size problem, a series of transformation is necessary. Specifically, the Compose() function from the transform module of torchvision is used to link a chain of transformation, such as conversion to tensor, resize, and normalization.\n",
        "\n",
        "### Folder re-organization\n",
        "To load the dataset, I've decided make use of the ImageFolder() function of the datasets module from torchvision. This image loader function requires the images to be arranged in a specific order, which is:\n",
        "> root/class/image.png\n",
        "\n",
        "Hence, every image has to be organized in a subfolder having the name of the class it belongs to. The training folder meets this requirement, while the test folder has to be properly re-arranged and organized in the above described division."
      ],
      "metadata": {
        "id": "AsaH9x0uimF3"
      }
    },
    {
      "cell_type": "code",
      "source": [
        "# Download data from Stanford data source\n",
        "!wget http://cs231n.stanford.edu/tiny-imagenet-200.zip\n",
        "  \n",
        "# Unzip raw zip file\n",
        "!unzip -qq 'tiny-imagenet-200.zip'"
      ],
      "metadata": {
        "id": "eo_eRQrACeL7",
        "colab": {
          "base_uri": "https://localhost:8080/"
        },
        "outputId": "efa116ee-56a1-454c-febc-0562b59e41de"
      },
      "execution_count": null,
      "outputs": [
        {
          "output_type": "stream",
          "name": "stdout",
          "text": [
            "--2023-02-14 00:38:07--  http://cs231n.stanford.edu/tiny-imagenet-200.zip\n",
            "Resolving cs231n.stanford.edu (cs231n.stanford.edu)... 171.64.68.10\n",
            "Connecting to cs231n.stanford.edu (cs231n.stanford.edu)|171.64.68.10|:80... connected.\n",
            "HTTP request sent, awaiting response... 200 OK\n",
            "Length: 248100043 (237M) [application/zip]\n",
            "Saving to: ‘tiny-imagenet-200.zip’\n",
            "\n",
            "tiny-imagenet-200.z 100%[===================>] 236.61M  14.1MB/s    in 19s     \n",
            "\n",
            "2023-02-14 00:38:26 (12.2 MB/s) - ‘tiny-imagenet-200.zip’ saved [248100043/248100043]\n",
            "\n"
          ]
        }
      ]
    },
    {
      "cell_type": "markdown",
      "source": [
        "The val_annotations.txt file in the val folder contains contains a list of six tab-separated columns. They represent, in order: \n",
        "1. filename\n",
        "1. class label\n",
        "1. coordinates, height and width of the bounding box\n",
        "\n",
        "To re-organize the validation folder, we only need the first two columns."
      ],
      "metadata": {
        "id": "j8I7t6nU2lxb"
      }
    },
    {
      "cell_type": "code",
      "source": [
        "# Main dataset directory and training and validation folder paths\n",
        "DATASET_DIR = 'tiny-imagenet-200' \n",
        "TRAIN_DIR = os.path.join(DATASET_DIR, 'train') \n",
        "VAL_DIR = os.path.join(DATASET_DIR, 'val')\n",
        "\n",
        "# Create new validation folder\n",
        "VAL_DIR_SORTED = os.path.join(DATASET_DIR, 'val_sorted')\n",
        "if not os.path.exists(VAL_DIR_SORTED):\n",
        "    os.makedirs(VAL_DIR_SORTED)\n",
        "\n",
        "# Open and read val_annotations text file\n",
        "fd = open(os.path.join(VAL_DIR, 'val_annotations.txt'), 'r')\n",
        "lines = fd.readlines()\n",
        "\n",
        "# Create dictionary to store pairs in the form\n",
        "#       class_ID : ArrayList of images\n",
        "# Class_ID is found on the second column, while the image name on the first one\n",
        "class_dict = {}\n",
        "for line in lines:\n",
        "    cols = line.split('\\t')\n",
        "    class_id = cols[1]\n",
        "    img_name = cols[0]\n",
        "\n",
        "    # if class id not present in dictionary yet\n",
        "    # add it and assign list with one image name in it,\n",
        "    # otherwise add image name to the list\n",
        "    if class_id not in class_dict.keys():\n",
        "        class_dict[class_id] = [img_name]\n",
        "    else:\n",
        "        class_dict[class_id].append(img_name)\n",
        "\n",
        "# close file descriptor\n",
        "fd.close()\n",
        "\n",
        "# Define path where the original images are stored\n",
        "images_folder = os.path.join(VAL_DIR, 'images')\n",
        "\n",
        "# Each key in the class dictionary corresponds to a unique class ID\n",
        "# therefore for each key a subfolder with the key name is created\n",
        "# and all the images connected to that key are moved into the subfolder\n",
        "for key in class_dict.keys() :\n",
        "    class_path = os.path.join(VAL_DIR_SORTED, key)\n",
        "\n",
        "    #create folder if it does not exist\n",
        "    if not os.path.exists(class_path):\n",
        "        os.makedirs(class_path)\n",
        "\n",
        "    # Move images to class folder\n",
        "    for img in class_dict[key] :\n",
        "        img_path = os.path.join(images_folder, img)\n",
        "        if os.path.exists(img_path):\n",
        "            os.rename(img_path, os.path.join(class_path, img))"
      ],
      "metadata": {
        "id": "L8hAOxf71R9t"
      },
      "execution_count": null,
      "outputs": []
    },
    {
      "cell_type": "markdown",
      "source": [
        "## Transformations\n",
        "\n",
        "As previously mentioned, the original ImageNet dataset contains images with resolution 256x256 pixels, whilst the tiny version contains image with resolution 64x64 pixels. A series of tranformations reshape the input and make it siutable for our applications. I took from the Pytorch documentation of ResNet-152 the suggested values of mean and std for the normalization.\n",
        "\n",
        "[Pytorch ResNet-152](https://pytorch.org/vision/main/models/generated/torchvision.models.resnet152.html)"
      ],
      "metadata": {
        "id": "CjYlmkhBOagY"
      }
    },
    {
      "cell_type": "code",
      "source": [
        "# Define transformation sequence for image pre-processing\n",
        "# to transform original images (shape = [3,64,64]) into \n",
        "# images with shape [3, 224, 224]\n",
        "# If not using pre-trained model, normalize with [0.5, 0.5, 0.5]\n",
        "# If using pre-trained ImageNet, normalize with \n",
        "# mean=[0.485, 0.456, 0.406] and std=[0.229, 0.224, 0.225]\n",
        "\n",
        "train_transform = T.Compose([\n",
        "                T.RandomResizedCrop(224),\n",
        "                T.RandomHorizontalFlip(),\n",
        "                T.ToTensor(),\n",
        "                T.Normalize(mean=[0.485, 0.456, 0.406], \n",
        "                            std=[0.229, 0.224, 0.225])\n",
        "                ])\n",
        "\n",
        "val_transform = T.Compose([\n",
        "                T.Resize(256),\n",
        "                T.CenterCrop(224),\n",
        "                T.ToTensor(),\n",
        "                T.Normalize(mean=[0.485, 0.456, 0.406], \n",
        "                            std=[0.229, 0.224, 0.225])\n",
        "                ])"
      ],
      "metadata": {
        "id": "hcjOEWS821v5"
      },
      "execution_count": null,
      "outputs": []
    },
    {
      "cell_type": "markdown",
      "source": [
        "## Dataset Loading\n",
        "Use ImageFolder function to load training and validation datasets"
      ],
      "metadata": {
        "id": "F6Of85NfU_wI"
      }
    },
    {
      "cell_type": "code",
      "source": [
        "# Use ImageFolder to generate training and validation pytorch datasets\n",
        "train_dataset = datasets.ImageFolder(TRAIN_DIR, train_transform)\n",
        "val_dataset = datasets.ImageFolder(VAL_DIR_SORTED, val_transform)"
      ],
      "metadata": {
        "id": "PxjZiRRp49mK"
      },
      "execution_count": null,
      "outputs": []
    },
    {
      "cell_type": "markdown",
      "source": [
        "# Training function\n",
        "The function train_model() is defined in order to facilitate the model's training. It performs the data loadera creation, folowed by training phase and evaluation phase. The evaluation follows the training after each epoch. Loss and accuracy are computed after each phase and printed on screen. The tqdm process bar is used to give a visual representation of the progression of each phase.\n",
        "\n",
        "After each evaluation, the model with the best performance is saved into a variable, which will be returned at the end of the training, alongside with history of the training and validation statistics (loss and accuracy).\n",
        "\n",
        "The scheduler is instanciated inside this routine to perform the warm up process, hence resetting the learning rate to it highest value. Inspiration for the implementation was found [here](https://discuss.pytorch.org/t/how-to-implement-torch-optim-lr-scheduler-cosineannealinglr/28797/5)."
      ],
      "metadata": {
        "id": "uFI-_tsYVKU_"
      }
    },
    {
      "cell_type": "code",
      "source": [
        "# Defining training function to facilitate training of different models\n",
        "\n",
        "def train_model(model, device, train_dataset, val_dataset, batch_size, use_cuda,\n",
        "                num_epochs, criterion, optimizer, scheduler_args=None):\n",
        "    \n",
        "    # init statistics to return\n",
        "    stats = {\n",
        "        \"train\" : {\n",
        "            \"loss\" : [],\n",
        "            \"acc\" : []\n",
        "        },\n",
        "        \"val\" : {\n",
        "            \"loss\" : [],\n",
        "            \"acc\" : []\n",
        "        },\n",
        "    }\n",
        "    \n",
        "    # Get train and validation data loader using DataLoader function\n",
        "    # for train loader the shuffle is set to True\n",
        "    train_loader = DataLoader(train_dataset, \n",
        "                        batch_size=batch_size, \n",
        "                        shuffle=True, \n",
        "                        pin_memory=use_cuda,\n",
        "                        num_workers=1\n",
        "                        )\n",
        "\n",
        "    val_loader = DataLoader(val_dataset, \n",
        "                        batch_size=batch_size, \n",
        "                        shuffle=False, \n",
        "                        pin_memory=use_cuda,\n",
        "                        num_workers=1\n",
        "                        )\n",
        "    \n",
        "    # check whether to use an optimizer scheduler, and if yes instantiate it\n",
        "    use_scheduler = scheduler_args != None\n",
        "    if use_scheduler:\n",
        "        r_steps = scheduler_args[\"reset_steps\"]\n",
        "        min_lr = scheduler_args[\"min_lr\"]\n",
        "        scheduler = scheduler_args[\"type\"](optimizer, r_steps, min_lr)\n",
        "\n",
        "    # to check how much time the whole process takes\n",
        "    begin = time.time()\n",
        "\n",
        "    # create initial copy of the model state and set best accuracy to 0\n",
        "    best_model_wts = copy.deepcopy(model.state_dict())\n",
        "    best_acc = 0.0\n",
        "\n",
        "    # init step for scheduler reset to perform warm up\n",
        "    step = 0\n",
        "\n",
        "    # Each epoch has a training phase followed by a validation phase\n",
        "    for epoch in range(num_epochs):\n",
        "        print('-' * 10)\n",
        "        print(f'Epoch {epoch+1}/{num_epochs}')\n",
        "\n",
        "        #------------- TRAINING -------------\n",
        "        # start with the training setting model to training mode\n",
        "        model.train()\n",
        "\n",
        "        # init statistics \n",
        "        running_loss = 0.0\n",
        "        running_corrects = 0\n",
        "        start = time.time()\n",
        "\n",
        "        # Iterate over training dataloader using tqdm progress bar\n",
        "        for inputs, labels in tqdm(train_loader):\n",
        "            inputs = inputs.to(device)\n",
        "            labels = labels.to(device)\n",
        "\n",
        "            # zero the parameter gradients\n",
        "            optimizer.zero_grad()\n",
        "\n",
        "            with torch.set_grad_enabled(True):\n",
        "                outputs = model(inputs)\n",
        "                _, preds = torch.max(outputs, 1)\n",
        "                loss = criterion(outputs, labels)\n",
        "                \n",
        "                # backward propagation and optimize \n",
        "                loss.backward()\n",
        "                optimizer.step()\n",
        "\n",
        "            # update statistics considering batch size\n",
        "            running_loss += loss.item() * inputs.size(0)\n",
        "            running_corrects += torch.sum(preds == labels.data)\n",
        "\n",
        "            # increase step for the scheduler\n",
        "            if use_scheduler:\n",
        "                #reset scheduler if number of steps reached\n",
        "                if step == r_steps:\n",
        "                    scheduler = scheduler_args[\"type\"](optimizer, r_steps, min_lr)\n",
        "                    step = 0\n",
        "                else:\n",
        "                    scheduler.step()\n",
        "                    step +=1\n",
        "\n",
        "        # compute epoch's training loss and accuracy\n",
        "        epoch_loss = running_loss / len(train_dataset)\n",
        "        epoch_acc = running_corrects.double() / len(train_dataset)\n",
        "\n",
        "        # keep track of epoch's training loss and accuracy\n",
        "        stats[\"train\"][\"loss\"].append(epoch_loss)\n",
        "        stats[\"train\"][\"acc\"].append(epoch_acc.item())\n",
        "\n",
        "        # get training time\n",
        "        duration = time.time() - start\n",
        "\n",
        "        # print out statistics\n",
        "        print(f' Time: {duration // 60:.0f}m {duration % 60:.0f}s Loss: {epoch_loss:.4f} Acc: {epoch_acc:.4f}')\n",
        "\n",
        "\n",
        "        #------------- EVALUATION -------------\n",
        "        # proceed setting model to evaluation mode\n",
        "        model.eval()\n",
        "\n",
        "        # init statistics \n",
        "        running_loss = 0.0\n",
        "        running_corrects = 0\n",
        "        start = time.time()\n",
        "\n",
        "        # Iterate over validation dataloader using tqdm progress bar\n",
        "        for inputs, labels in tqdm(val_loader):\n",
        "            inputs = inputs.to(device)\n",
        "            labels = labels.to(device)\n",
        "\n",
        "            # zero the parameter gradients\n",
        "            optimizer.zero_grad()\n",
        "\n",
        "            with torch.set_grad_enabled(False):\n",
        "                outputs = model(inputs)\n",
        "                _, preds = torch.max(outputs, 1)\n",
        "                loss = criterion(outputs, labels)\n",
        "\n",
        "            # update statistics considering batch size\n",
        "            running_loss += loss.item() * inputs.size(0)\n",
        "            running_corrects += torch.sum(preds == labels.data)\n",
        "\n",
        "        # compute epoch's validation loss and accuracy\n",
        "        epoch_loss = running_loss / len(val_dataset)\n",
        "        epoch_acc = running_corrects.double() / len(val_dataset)\n",
        "\n",
        "        # keep track of epoch's validation loss and accuracy\n",
        "        stats[\"val\"][\"loss\"].append(epoch_loss)\n",
        "        stats[\"val\"][\"acc\"].append(epoch_acc.item())\n",
        "\n",
        "        # get training time\n",
        "        duration = time.time() - start\n",
        "\n",
        "        # print out statistics\n",
        "        print(f' Time: {duration // 60:.0f}m {duration % 60:.0f}s Loss: {epoch_loss:.4f} Acc: {epoch_acc:.4f}')\n",
        "\n",
        "        # deep copy the model if best accuracy is reached\n",
        "        if epoch_acc > best_acc:\n",
        "            best_acc = epoch_acc\n",
        "            best_model_wts = copy.deepcopy(model.state_dict())\n",
        "\n",
        "    time_elapsed = time.time() - begin\n",
        "    print(f'\\nTraining complete in {time_elapsed // 60:.0f}m {time_elapsed % 60:.0f}s')\n",
        "    print(f'Best val Acc: {best_acc:4f}')\n",
        "\n",
        "    # load best model weights\n",
        "    model.load_state_dict(best_model_wts)\n",
        "    \n",
        "    return model, stats"
      ],
      "metadata": {
        "id": "M-DeZvC6RpOF"
      },
      "execution_count": null,
      "outputs": []
    },
    {
      "cell_type": "markdown",
      "source": [
        "# gMLP model configurations\n",
        "In the paper, the authors present 3 configurations of the gMLP model: Ti, S and B. These 3 configurations share the majority of the parameters, and the only difference lays in the size of the model, the size of the hidden layer and the probability value for the stochastic depth.\n",
        "\n",
        "\n",
        "*   **Ti**. Model size of 128 and hidden layer size 768. The probability of the stochastic depth is 0.99.\n",
        "*   **S**. Model size of 256 and hidden layer size 1536. The probability of the stochastic depth is 0.95.\n",
        "*   **Ti**. Model size of 512 and hidden layer size 3072. The probability of the stochastic depth is 0.90.\n",
        "\n",
        "Hence, moving to the next configuration the model size and the hidden size are doubled every time, while the probability decreases. This last one increases the probability of a gMLP block being bypassed with the incresing of the size of the model.\n",
        "\n"
      ],
      "metadata": {
        "id": "pxRljETgaRR6"
      }
    },
    {
      "cell_type": "code",
      "source": [
        "image_size = 224\n",
        "n_channels = 3\n",
        "patch_size = 14\n",
        "n_classes = len(class_dict)\n",
        "d_model = 128\n",
        "d_ffn = 768\n",
        "n_blocks = 30\n",
        "    \n",
        "# Defines the parameters to build the 3 models described in the paper\n",
        "# the only paramters that change across the different architectures are\n",
        "# the size of the model and the size of the hidden layer, which doubles every time,\n",
        "# and the probability of the stochastic depth\n",
        "Ti_conf = {\n",
        "            \"image_size\": image_size,\n",
        "            \"n_channels\": n_channels,\n",
        "            \"patch_size\": patch_size,\n",
        "            \"n_classes\": n_classes,\n",
        "            \"L\" : n_blocks,\n",
        "            \"d_model\": d_model,\n",
        "            \"d_ffn\": d_ffn,\n",
        "            \"survival_prob\" : 0.99\n",
        "            }\n",
        "\n",
        "S_conf = {\n",
        "            \"image_size\": image_size,\n",
        "            \"n_channels\": n_channels,\n",
        "            \"patch_size\": patch_size,\n",
        "            \"n_classes\": n_classes,\n",
        "            \"L\" : n_blocks,\n",
        "            \"d_model\": d_model*2,\n",
        "            \"d_ffn\": d_ffn*2,\n",
        "            \"survival_prob\" : 0.95\n",
        "            }\n",
        "\n",
        "B_conf = {\n",
        "            \"image_size\": image_size,\n",
        "            \"n_channels\": n_channels,\n",
        "            \"patch_size\": patch_size,\n",
        "            \"n_classes\": n_classes,\n",
        "            \"L\" : n_blocks,\n",
        "            \"d_model\": d_model*4,\n",
        "            \"d_ffn\": d_ffn*4,\n",
        "            \"survival_prob\" : 0.9\n",
        "            }\n",
        "\n",
        "config = {\"Ti\" : Ti_conf, \"S\" : S_conf, \"B\" : B_conf }\n"
      ],
      "metadata": {
        "id": "MJhY7PmcMUqC"
      },
      "execution_count": null,
      "outputs": []
    },
    {
      "cell_type": "markdown",
      "source": [
        "## Model variations\n",
        "The possibility to have small variations in the model architecture and in some mechanism were introduced in the implementation of this project. more specifically these variations include:\n",
        "\n",
        "*   **Type of projection in the patch embedder**. 'linear' stands for simple linear projection, while 'conv' identifies a 2D convolutional projection\n",
        "*   **Methodology for the cls token extraction before the final classification layer**. Selecting 'first' only the first line is considered, while using 'mean' a reduction is performed. such a reduction is defined as a summation over the columns followed by a division with the number of rows, therefore the mean value is extracted.\n",
        "* **Attention**. Whether to use the normal gMLP model or its variation aMLP with the tiny attention layer  \n",
        "\n",
        "The 3 configurations of the original model are built, alongside with some of their variation to show any differences between them.\n",
        "\n",
        "After building these 3 original models, it results that the the first 2 are not coherent with the paper regarding the number of trainable parameters, whilst the last configuration shows the same amount declared by the authors.\n",
        "\n",
        "The type of projection does not affect the number of parameters, but the presence of the attention layer does.\n",
        "\n"
      ],
      "metadata": {
        "id": "3XmF0BdrsD3F"
      }
    },
    {
      "cell_type": "code",
      "source": [
        "# Build the 3 original models\n",
        "original = {\"Ti\" : {}, \"S\" : {}, \"B\" : {} }\n",
        "\n",
        "print(\"Original configuration:\")\n",
        "for k in original.keys():\n",
        "    model = gMLPNet(**config[k])\n",
        "    total_params = sum(p.numel() for p in model.parameters() if p.requires_grad)\n",
        "    original[k] = {\"model\" : model, \"params\" : total_params}\n",
        "    print(f'\\tgMLP_{k} total parameters: {total_params}')\n",
        "print('')\n",
        "\n",
        "# Build the 3 models with convolutional projection\n",
        "with_conv = {\"Ti\" : {}, \"S\" : {}, \"B\" : {} }\n",
        "\n",
        "print(\"With convolutional projection:\")\n",
        "for k in with_conv.keys():\n",
        "    model = gMLPNet(**config[k])\n",
        "    total_params = sum(p.numel() for p in model.parameters() if p.requires_grad)\n",
        "    with_conv[k] = {\"model\" : model, \"params\" : total_params}\n",
        "    print(f'\\tgMLP_{k} conv projection total parameters: {total_params}')\n",
        "print('')\n",
        "\n",
        "# Build the models with attention layer\n",
        "with_attention = {\"Ti\" : {}, \"S\" : {}, \"B\" : {} }\n",
        "\n",
        "print(\"With tiny attention layer:\")\n",
        "for k in with_attention.keys():\n",
        "    model = gMLPNet(**config[k], attention=True)\n",
        "    total_params = sum(p.numel() for p in model.parameters() if p.requires_grad)\n",
        "    with_attention[k] = {\"model\" : model, \"params\" : total_params}\n",
        "    print(f'\\taMLP_{k} total parameters: {total_params}')\n",
        "print('')\n"
      ],
      "metadata": {
        "id": "XPl4nngZva_T",
        "colab": {
          "base_uri": "https://localhost:8080/"
        },
        "outputId": "c9275949-85a8-4fe5-fafd-64700c83698f"
      },
      "execution_count": null,
      "outputs": [
        {
          "output_type": "stream",
          "name": "stdout",
          "text": [
            "Original configuration:\n",
            "\tgMLP_Ti total parameters: 6571780\n",
            "\tgMLP_S total parameters: 20001540\n",
            "\tgMLP_B total parameters: 73403140\n",
            "\n",
            "With convolutional projection:\n",
            "\tgMLP_Ti conv projection total parameters: 6571780\n",
            "\tgMLP_S conv projection total parameters: 20001540\n",
            "\tgMLP_B conv projection total parameters: 73403140\n",
            "\n",
            "With tiny attention layer:\n",
            "\taMLP_Ti total parameters: 8063620\n",
            "\taMLP_S total parameters: 22242180\n",
            "\taMLP_B total parameters: 77141380\n",
            "\n"
          ]
        }
      ]
    },
    {
      "cell_type": "markdown",
      "source": [
        "### Parameters plotting"
      ],
      "metadata": {
        "id": "PxoSt1OS5dFo"
      }
    },
    {
      "cell_type": "code",
      "source": [
        "# Plot the histogram for the parameters of the gMLPs and aMLPs\n",
        "groups = [k for k in original.keys()]\n",
        "X_axis = np.arange(len(groups))\n",
        "g_params=[]\n",
        "a_params=[]\n",
        "\n",
        "for k in groups:\n",
        "    g_params.append(round(original[k][\"params\"]/1000000, 1) )\n",
        "    a_params.append(round(with_attention[k][\"params\"]/1000000, 1) )\n",
        "  \n",
        "plt.bar(X_axis - 0.2, g_params, 0.4, label = 'gMLP')\n",
        "plt.bar(X_axis + 0.2, a_params, 0.4, label = 'aMLP')\n",
        "  \n",
        "plt.xticks(X_axis, groups)\n",
        "plt.xlabel(\"Models\")\n",
        "plt.ylabel(\"Number of parameters (M)\")\n",
        "plt.title(\"Number of parameters of gMLPs and aMLPs\")\n",
        "plt.legend()\n",
        "plt.show()"
      ],
      "metadata": {
        "id": "6uUcI2NK1h01",
        "colab": {
          "base_uri": "https://localhost:8080/"
        },
        "outputId": "5fadc4d2-f35e-441c-a5db-275606ac5f47"
      },
      "execution_count": null,
      "outputs": [
        {
          "output_type": "display_data",
          "data": {
            "text/plain": [
              "<Figure size 432x288 with 1 Axes>"
            ],
            "image/png": "[encoded data removed]"
          },
          "metadata": {
            "needs_background": "light"
          }
        }
      ]
    },
    {
      "cell_type": "markdown",
      "source": [
        "# Tests\n",
        "Here some tests are performed. For simplicity and resource limitations only the **Ti** configuration is considered. 3 different variations will be considered:\n",
        "\n",
        "\n",
        "1.   Original configuration\n",
        "2.   Convolutional projection and mean token extraction\n",
        "3.   Original configuration with attention layer\n",
        "\n",
        "A very brief training is performed for each of these configurations.\n",
        "\n"
      ],
      "metadata": {
        "id": "G4Ud1IjC58Px"
      }
    },
    {
      "cell_type": "markdown",
      "source": [
        "## Training parameters\n",
        "Here are defined the parameters used for the training process, such as batch size, device used for the computation (GPU if available), loss function, optimizer and optimizer scheduler.\n",
        "\n",
        "I have tried to remain as close as possible to the ones declared by the authors in the table at page 12, nevertheless some changed were necessary due to the limitations in hardware computing power and resource limit (Colab free GPU runtime). The main differences are:\n",
        "\n",
        "\n",
        "*   Batch size reduced from 4096 to 128.\n",
        "*   Cutmix not implemented.\n",
        "*   Number of epochs reduced from 300 to 10.\n",
        "*   Cosine scheduler steps set to 100, to adjust to the reduction of the number of epochs.\n",
        "*   Learning rate of the AdamW optimizer incremented to adapt to the reduced number of epochs.\n",
        "\n",
        "\n",
        ">**N.B.** Even though a sensitively reduced dataset is used, the Colab resources limitations forbids me to go higher with the epochs. Therefore I do not aim the achieve the same results declared in the paper, but only observing the evolution of the loss and the accuracy\n",
        "\n",
        "---\n",
        "\n",
        "[Cosine scheduler restart](https://discuss.pytorch.org/t/how-to-implement-torch-optim-lr-scheduler-cosineannealinglr/28797/5)\n",
        "\n"
      ],
      "metadata": {
        "id": "FB16J0m3pYpg"
      }
    },
    {
      "cell_type": "code",
      "source": [
        "# Define device to use (CPU or GPU) and set model to device\n",
        "use_cuda = torch.cuda.is_available()\n",
        "device = torch.device(\"cuda\" if use_cuda else \"cpu\")\n",
        "print(\"using device \", device)\n",
        "\n",
        "# Define the batch size\n",
        "batch_size = 128\n",
        "\n",
        "# Define number of epochs\n",
        "epochs = 10\n",
        "\n",
        "# Define the cosine scheduler arguments\n",
        "sched_args = {\n",
        "              \"type\" : optim.lr_scheduler.CosineAnnealingLR,    #type of the scheduler\n",
        "              \"reset_steps\" : 100,                              #reset scheduler for warmup\n",
        "              \"min_lr\" : 3e-4                                   #minimum learning rate\n",
        "             }\n",
        "\n",
        "# Define the loss function\n",
        "criterion = nn.CrossEntropyLoss()\n",
        "\n",
        "# Define the training arguments\n",
        "# model and optimizer must be defined and assigned for each model before training\n",
        "train_args = {\n",
        "              \"model\" : None,\n",
        "              \"device\" : device,\n",
        "              \"train_dataset\" : train_dataset,\n",
        "              \"val_dataset\" : val_dataset,\n",
        "              \"batch_size\" : batch_size,\n",
        "              \"use_cuda\" : use_cuda,\n",
        "              \"num_epochs\" : epochs,\n",
        "              \"criterion\" : criterion,\n",
        "              \"optimizer\" : None,\n",
        "              \"scheduler_args\" : sched_args\n",
        "             }"
      ],
      "metadata": {
        "id": "Q4D-h2_aphxH",
        "colab": {
          "base_uri": "https://localhost:8080/"
        },
        "outputId": "3dc2e96e-a461-420e-d215-8a8546c55aab"
      },
      "execution_count": null,
      "outputs": [
        {
          "output_type": "stream",
          "name": "stdout",
          "text": [
            "using device  cuda\n"
          ]
        }
      ]
    },
    {
      "cell_type": "markdown",
      "source": [
        "## Training process"
      ],
      "metadata": {
        "id": "jBdfprvhJ_Zw"
      }
    },
    {
      "cell_type": "markdown",
      "source": [
        "### Original configuration"
      ],
      "metadata": {
        "id": "LfI0mXin8GlV"
      }
    },
    {
      "cell_type": "code",
      "source": [
        "#instantiate model and set it to device\n",
        "gMLP_Ti_original = gMLPNet(**config[\"Ti\"])\n",
        "gMLP_Ti_original.to(device)\n",
        "\n",
        "# Define the optimizer with increased learning rate\n",
        "optimizer = optim.AdamW(gMLP_Ti_original.parameters(), lr=3e-2, betas=[0.9,0.999], weight_decay=0.05)\n",
        "\n",
        "#set the remaining training arguments\n",
        "train_args[\"model\"] = gMLP_Ti_original\n",
        "train_args[\"optimizer\"] = optimizer\n",
        "\n",
        "#start training process\n",
        "gMLP_Ti_original, stats_original = train_model(**train_args)"
      ],
      "metadata": {
        "id": "Ib95ohVk8K_h",
        "colab": {
          "base_uri": "https://localhost:8080/"
        },
        "outputId": "58d8cf57-1dfe-464f-8d0e-a8b737ad9c4b"
      },
      "execution_count": null,
      "outputs": [
        {
          "output_type": "stream",
          "name": "stdout",
          "text": [
            "----------\n",
            "Epoch 1/10\n"
          ]
        },
        {
          "output_type": "stream",
          "name": "stderr",
          "text": [
            "100%|██████████| 782/782 [07:59<00:00,  1.63it/s]\n"
          ]
        },
        {
          "output_type": "stream",
          "name": "stdout",
          "text": [
            " Time: 7m 59s Loss: 22.2589 Acc: 0.0053\n"
          ]
        },
        {
          "output_type": "stream",
          "name": "stderr",
          "text": [
            "100%|██████████| 79/79 [00:28<00:00,  2.76it/s]\n"
          ]
        },
        {
          "output_type": "stream",
          "name": "stdout",
          "text": [
            " Time: 0m 29s Loss: 6.3970 Acc: 0.0044\n",
            "----------\n",
            "Epoch 2/10\n"
          ]
        },
        {
          "output_type": "stream",
          "name": "stderr",
          "text": [
            "100%|██████████| 782/782 [07:53<00:00,  1.65it/s]\n"
          ]
        },
        {
          "output_type": "stream",
          "name": "stdout",
          "text": [
            " Time: 7m 54s Loss: 6.3343 Acc: 0.0047\n"
          ]
        },
        {
          "output_type": "stream",
          "name": "stderr",
          "text": [
            "100%|██████████| 79/79 [00:29<00:00,  2.70it/s]\n"
          ]
        },
        {
          "output_type": "stream",
          "name": "stdout",
          "text": [
            " Time: 0m 29s Loss: 5.7032 Acc: 0.0049\n",
            "----------\n",
            "Epoch 3/10\n"
          ]
        },
        {
          "output_type": "stream",
          "name": "stderr",
          "text": [
            "100%|██████████| 782/782 [07:52<00:00,  1.65it/s]\n"
          ]
        },
        {
          "output_type": "stream",
          "name": "stdout",
          "text": [
            " Time: 7m 53s Loss: 5.7503 Acc: 0.0051\n"
          ]
        },
        {
          "output_type": "stream",
          "name": "stderr",
          "text": [
            "100%|██████████| 79/79 [00:28<00:00,  2.80it/s]\n"
          ]
        },
        {
          "output_type": "stream",
          "name": "stdout",
          "text": [
            " Time: 0m 28s Loss: 5.5440 Acc: 0.0045\n",
            "----------\n",
            "Epoch 4/10\n"
          ]
        },
        {
          "output_type": "stream",
          "name": "stderr",
          "text": [
            "100%|██████████| 782/782 [07:53<00:00,  1.65it/s]\n"
          ]
        },
        {
          "output_type": "stream",
          "name": "stdout",
          "text": [
            " Time: 7m 53s Loss: 5.5361 Acc: 0.0052\n"
          ]
        },
        {
          "output_type": "stream",
          "name": "stderr",
          "text": [
            "100%|██████████| 79/79 [00:28<00:00,  2.81it/s]\n"
          ]
        },
        {
          "output_type": "stream",
          "name": "stdout",
          "text": [
            " Time: 0m 28s Loss: 5.4497 Acc: 0.0045\n",
            "----------\n",
            "Epoch 5/10\n"
          ]
        },
        {
          "output_type": "stream",
          "name": "stderr",
          "text": [
            "100%|██████████| 782/782 [07:52<00:00,  1.65it/s]\n"
          ]
        },
        {
          "output_type": "stream",
          "name": "stdout",
          "text": [
            " Time: 7m 53s Loss: 5.4825 Acc: 0.0049\n"
          ]
        },
        {
          "output_type": "stream",
          "name": "stderr",
          "text": [
            "100%|██████████| 79/79 [00:27<00:00,  2.83it/s]\n"
          ]
        },
        {
          "output_type": "stream",
          "name": "stdout",
          "text": [
            " Time: 0m 28s Loss: 5.4102 Acc: 0.0048\n",
            "----------\n",
            "Epoch 6/10\n"
          ]
        },
        {
          "output_type": "stream",
          "name": "stderr",
          "text": [
            "100%|██████████| 782/782 [07:52<00:00,  1.65it/s]\n"
          ]
        },
        {
          "output_type": "stream",
          "name": "stdout",
          "text": [
            " Time: 7m 53s Loss: 5.4082 Acc: 0.0048\n"
          ]
        },
        {
          "output_type": "stream",
          "name": "stderr",
          "text": [
            "100%|██████████| 79/79 [00:28<00:00,  2.82it/s]\n"
          ]
        },
        {
          "output_type": "stream",
          "name": "stdout",
          "text": [
            " Time: 0m 28s Loss: 5.3771 Acc: 0.0059\n",
            "----------\n",
            "Epoch 7/10\n"
          ]
        },
        {
          "output_type": "stream",
          "name": "stderr",
          "text": [
            "100%|██████████| 782/782 [07:52<00:00,  1.66it/s]\n"
          ]
        },
        {
          "output_type": "stream",
          "name": "stdout",
          "text": [
            " Time: 7m 52s Loss: 5.3834 Acc: 0.0053\n"
          ]
        },
        {
          "output_type": "stream",
          "name": "stderr",
          "text": [
            "100%|██████████| 79/79 [00:29<00:00,  2.71it/s]\n"
          ]
        },
        {
          "output_type": "stream",
          "name": "stdout",
          "text": [
            " Time: 0m 29s Loss: 5.3591 Acc: 0.0046\n",
            "----------\n",
            "Epoch 8/10\n"
          ]
        },
        {
          "output_type": "stream",
          "name": "stderr",
          "text": [
            "100%|██████████| 782/782 [07:52<00:00,  1.66it/s]\n"
          ]
        },
        {
          "output_type": "stream",
          "name": "stdout",
          "text": [
            " Time: 7m 52s Loss: 5.3789 Acc: 0.0047\n"
          ]
        },
        {
          "output_type": "stream",
          "name": "stderr",
          "text": [
            "100%|██████████| 79/79 [00:27<00:00,  2.85it/s]\n"
          ]
        },
        {
          "output_type": "stream",
          "name": "stdout",
          "text": [
            " Time: 0m 28s Loss: 5.3546 Acc: 0.0051\n",
            "----------\n",
            "Epoch 9/10\n"
          ]
        },
        {
          "output_type": "stream",
          "name": "stderr",
          "text": [
            "100%|██████████| 782/782 [07:52<00:00,  1.66it/s]\n"
          ]
        },
        {
          "output_type": "stream",
          "name": "stdout",
          "text": [
            " Time: 7m 52s Loss: 5.3483 Acc: 0.0053\n"
          ]
        },
        {
          "output_type": "stream",
          "name": "stderr",
          "text": [
            "100%|██████████| 79/79 [00:27<00:00,  2.84it/s]\n"
          ]
        },
        {
          "output_type": "stream",
          "name": "stdout",
          "text": [
            " Time: 0m 28s Loss: 5.3385 Acc: 0.0056\n",
            "----------\n",
            "Epoch 10/10\n"
          ]
        },
        {
          "output_type": "stream",
          "name": "stderr",
          "text": [
            "100%|██████████| 782/782 [07:52<00:00,  1.65it/s]\n"
          ]
        },
        {
          "output_type": "stream",
          "name": "stdout",
          "text": [
            " Time: 7m 53s Loss: 5.3378 Acc: 0.0052\n"
          ]
        },
        {
          "output_type": "stream",
          "name": "stderr",
          "text": [
            "100%|██████████| 79/79 [00:28<00:00,  2.78it/s]"
          ]
        },
        {
          "output_type": "stream",
          "name": "stdout",
          "text": [
            " Time: 0m 28s Loss: 5.3264 Acc: 0.0049\n",
            "\n",
            "Training complete in 83m 37s\n",
            "Best val Acc: 0.005900\n"
          ]
        },
        {
          "output_type": "stream",
          "name": "stderr",
          "text": [
            "\n"
          ]
        }
      ]
    },
    {
      "cell_type": "markdown",
      "source": [
        "### Convolutional projection and mean token extraction"
      ],
      "metadata": {
        "id": "L5vzKGxkhN1h"
      }
    },
    {
      "cell_type": "code",
      "source": [
        "#instantiate model and set it to device\n",
        "gMLP_Ti_conv = gMLPNet(**config[\"Ti\"], proj='conv', tk_extr='mean')\n",
        "gMLP_Ti_conv.to(device)\n",
        "\n",
        "# Define the optimizer with increased learning rate\n",
        "optimizer = optim.AdamW(gMLP_Ti_conv.parameters(), lr=3e-2, betas=[0.9,0.999], weight_decay=0.05)\n",
        "\n",
        "#set the remaining training arguments\n",
        "train_args[\"model\"] = gMLP_Ti_conv\n",
        "train_args[\"optimizer\"] = optimizer\n",
        "\n",
        "#start training process\n",
        "gMLP_Ti_conv, stats_conv = train_model(**train_args)"
      ],
      "metadata": {
        "id": "WX2CGSmA9pyz",
        "colab": {
          "base_uri": "https://localhost:8080/"
        },
        "outputId": "be8847af-382c-468e-878a-430f71779549"
      },
      "execution_count": null,
      "outputs": [
        {
          "output_type": "stream",
          "name": "stdout",
          "text": [
            "----------\n",
            "Epoch 1/10\n"
          ]
        },
        {
          "output_type": "stream",
          "name": "stderr",
          "text": [
            "100%|██████████| 782/782 [08:24<00:00,  1.55it/s]\n"
          ]
        },
        {
          "output_type": "stream",
          "name": "stdout",
          "text": [
            " Time: 8m 25s Loss: 14.3514 Acc: 0.0154\n"
          ]
        },
        {
          "output_type": "stream",
          "name": "stderr",
          "text": [
            "100%|██████████| 79/79 [00:28<00:00,  2.79it/s]\n"
          ]
        },
        {
          "output_type": "stream",
          "name": "stdout",
          "text": [
            " Time: 0m 28s Loss: 5.8118 Acc: 0.0189\n",
            "----------\n",
            "Epoch 2/10\n"
          ]
        },
        {
          "output_type": "stream",
          "name": "stderr",
          "text": [
            "100%|██████████| 782/782 [08:28<00:00,  1.54it/s]\n"
          ]
        },
        {
          "output_type": "stream",
          "name": "stdout",
          "text": [
            " Time: 8m 29s Loss: 5.5410 Acc: 0.0223\n"
          ]
        },
        {
          "output_type": "stream",
          "name": "stderr",
          "text": [
            "100%|██████████| 79/79 [00:28<00:00,  2.74it/s]\n"
          ]
        },
        {
          "output_type": "stream",
          "name": "stdout",
          "text": [
            " Time: 0m 29s Loss: 5.2858 Acc: 0.0249\n",
            "----------\n",
            "Epoch 3/10\n"
          ]
        },
        {
          "output_type": "stream",
          "name": "stderr",
          "text": [
            "100%|██████████| 782/782 [08:20<00:00,  1.56it/s]\n"
          ]
        },
        {
          "output_type": "stream",
          "name": "stdout",
          "text": [
            " Time: 8m 21s Loss: 5.2204 Acc: 0.0283\n"
          ]
        },
        {
          "output_type": "stream",
          "name": "stderr",
          "text": [
            "100%|██████████| 79/79 [00:28<00:00,  2.75it/s]\n"
          ]
        },
        {
          "output_type": "stream",
          "name": "stdout",
          "text": [
            " Time: 0m 29s Loss: 5.0632 Acc: 0.0325\n",
            "----------\n",
            "Epoch 4/10\n"
          ]
        },
        {
          "output_type": "stream",
          "name": "stderr",
          "text": [
            "100%|██████████| 782/782 [08:21<00:00,  1.56it/s]\n"
          ]
        },
        {
          "output_type": "stream",
          "name": "stdout",
          "text": [
            " Time: 8m 21s Loss: 5.0428 Acc: 0.0369\n"
          ]
        },
        {
          "output_type": "stream",
          "name": "stderr",
          "text": [
            "100%|██████████| 79/79 [00:28<00:00,  2.81it/s]\n"
          ]
        },
        {
          "output_type": "stream",
          "name": "stdout",
          "text": [
            " Time: 0m 28s Loss: 4.9083 Acc: 0.0385\n",
            "----------\n",
            "Epoch 5/10\n"
          ]
        },
        {
          "output_type": "stream",
          "name": "stderr",
          "text": [
            "100%|██████████| 782/782 [08:20<00:00,  1.56it/s]\n"
          ]
        },
        {
          "output_type": "stream",
          "name": "stdout",
          "text": [
            " Time: 8m 20s Loss: 4.9117 Acc: 0.0456\n"
          ]
        },
        {
          "output_type": "stream",
          "name": "stderr",
          "text": [
            "100%|██████████| 79/79 [00:27<00:00,  2.84it/s]\n"
          ]
        },
        {
          "output_type": "stream",
          "name": "stdout",
          "text": [
            " Time: 0m 28s Loss: 4.7695 Acc: 0.0532\n",
            "----------\n",
            "Epoch 6/10\n"
          ]
        },
        {
          "output_type": "stream",
          "name": "stderr",
          "text": [
            "100%|██████████| 782/782 [08:20<00:00,  1.56it/s]\n"
          ]
        },
        {
          "output_type": "stream",
          "name": "stdout",
          "text": [
            " Time: 8m 21s Loss: 4.8046 Acc: 0.0543\n"
          ]
        },
        {
          "output_type": "stream",
          "name": "stderr",
          "text": [
            "100%|██████████| 79/79 [00:28<00:00,  2.82it/s]\n"
          ]
        },
        {
          "output_type": "stream",
          "name": "stdout",
          "text": [
            " Time: 0m 28s Loss: 4.6710 Acc: 0.0595\n",
            "----------\n",
            "Epoch 7/10\n"
          ]
        },
        {
          "output_type": "stream",
          "name": "stderr",
          "text": [
            "100%|██████████| 782/782 [08:20<00:00,  1.56it/s]\n"
          ]
        },
        {
          "output_type": "stream",
          "name": "stdout",
          "text": [
            " Time: 8m 20s Loss: 4.7290 Acc: 0.0617\n"
          ]
        },
        {
          "output_type": "stream",
          "name": "stderr",
          "text": [
            "100%|██████████| 79/79 [00:27<00:00,  2.83it/s]\n"
          ]
        },
        {
          "output_type": "stream",
          "name": "stdout",
          "text": [
            " Time: 0m 28s Loss: 4.5774 Acc: 0.0687\n",
            "----------\n",
            "Epoch 8/10\n"
          ]
        },
        {
          "output_type": "stream",
          "name": "stderr",
          "text": [
            "100%|██████████| 782/782 [08:20<00:00,  1.56it/s]\n"
          ]
        },
        {
          "output_type": "stream",
          "name": "stdout",
          "text": [
            " Time: 8m 21s Loss: 4.6526 Acc: 0.0692\n"
          ]
        },
        {
          "output_type": "stream",
          "name": "stderr",
          "text": [
            "100%|██████████| 79/79 [00:28<00:00,  2.77it/s]\n"
          ]
        },
        {
          "output_type": "stream",
          "name": "stdout",
          "text": [
            " Time: 0m 29s Loss: 4.5189 Acc: 0.0778\n",
            "----------\n",
            "Epoch 9/10\n"
          ]
        },
        {
          "output_type": "stream",
          "name": "stderr",
          "text": [
            "100%|██████████| 782/782 [08:21<00:00,  1.56it/s]\n"
          ]
        },
        {
          "output_type": "stream",
          "name": "stdout",
          "text": [
            " Time: 8m 21s Loss: 4.5762 Acc: 0.0765\n"
          ]
        },
        {
          "output_type": "stream",
          "name": "stderr",
          "text": [
            "100%|██████████| 79/79 [00:28<00:00,  2.77it/s]\n"
          ]
        },
        {
          "output_type": "stream",
          "name": "stdout",
          "text": [
            " Time: 0m 29s Loss: 4.4291 Acc: 0.0844\n",
            "----------\n",
            "Epoch 10/10\n"
          ]
        },
        {
          "output_type": "stream",
          "name": "stderr",
          "text": [
            "100%|██████████| 782/782 [08:21<00:00,  1.56it/s]\n"
          ]
        },
        {
          "output_type": "stream",
          "name": "stdout",
          "text": [
            " Time: 8m 21s Loss: 4.5030 Acc: 0.0854\n"
          ]
        },
        {
          "output_type": "stream",
          "name": "stderr",
          "text": [
            "100%|██████████| 79/79 [00:28<00:00,  2.81it/s]"
          ]
        },
        {
          "output_type": "stream",
          "name": "stdout",
          "text": [
            " Time: 0m 28s Loss: 4.3742 Acc: 0.0942\n",
            "\n",
            "Training complete in 88m 23s\n",
            "Best val Acc: 0.094200\n"
          ]
        },
        {
          "output_type": "stream",
          "name": "stderr",
          "text": [
            "\n"
          ]
        }
      ]
    },
    {
      "cell_type": "markdown",
      "source": [
        "### Original configuration with attention layer"
      ],
      "metadata": {
        "id": "kvYKGZPB-F3p"
      }
    },
    {
      "cell_type": "code",
      "source": [
        "#instantiate model and set it to device\n",
        "aMLP_Ti = gMLPNet(**config[\"Ti\"], attention=True)\n",
        "aMLP_Ti.to(device)\n",
        "\n",
        "# Define the optimizer with increased learning rate\n",
        "optimizer = optim.AdamW(aMLP_Ti.parameters(), lr=3e-2, betas=[0.9,0.999], weight_decay=0.05)\n",
        "\n",
        "#set the remaining training arguments\n",
        "train_args[\"model\"] = aMLP_Ti\n",
        "train_args[\"optimizer\"] = optimizer\n",
        "\n",
        "#batch size has to be reduced due to Colab memory limitation for free accounts\n",
        "train_args[\"batch_size\"] = 64\n",
        "\n",
        "#start training process\n",
        "aMLP_Ti, stats_att = train_model(**train_args)"
      ],
      "metadata": {
        "id": "7_Y8zp1i-LL1",
        "colab": {
          "base_uri": "https://localhost:8080/"
        },
        "outputId": "5f0afd4a-4a78-4e5f-cf0a-3f884ac0775e"
      },
      "execution_count": null,
      "outputs": [
        {
          "output_type": "stream",
          "name": "stdout",
          "text": [
            "----------\n",
            "Epoch 1/10\n"
          ]
        },
        {
          "output_type": "stream",
          "name": "stderr",
          "text": [
            "100%|██████████| 1563/1563 [10:53<00:00,  2.39it/s]\n"
          ]
        },
        {
          "output_type": "stream",
          "name": "stdout",
          "text": [
            " Time: 10m 53s Loss: 115913.7899 Acc: 0.0055\n"
          ]
        },
        {
          "output_type": "stream",
          "name": "stderr",
          "text": [
            "100%|██████████| 157/157 [00:30<00:00,  5.10it/s]\n"
          ]
        },
        {
          "output_type": "stream",
          "name": "stdout",
          "text": [
            " Time: 0m 31s Loss: 57574.3969 Acc: 0.0071\n",
            "----------\n",
            "Epoch 2/10\n"
          ]
        },
        {
          "output_type": "stream",
          "name": "stderr",
          "text": [
            "100%|██████████| 1563/1563 [10:55<00:00,  2.38it/s]\n"
          ]
        },
        {
          "output_type": "stream",
          "name": "stdout",
          "text": [
            " Time: 10m 56s Loss: 41410.3477 Acc: 0.0052\n"
          ]
        },
        {
          "output_type": "stream",
          "name": "stderr",
          "text": [
            "100%|██████████| 157/157 [00:30<00:00,  5.13it/s]\n"
          ]
        },
        {
          "output_type": "stream",
          "name": "stdout",
          "text": [
            " Time: 0m 31s Loss: 28640.7756 Acc: 0.0055\n",
            "----------\n",
            "Epoch 3/10\n"
          ]
        },
        {
          "output_type": "stream",
          "name": "stderr",
          "text": [
            "100%|██████████| 1563/1563 [10:55<00:00,  2.39it/s]\n"
          ]
        },
        {
          "output_type": "stream",
          "name": "stdout",
          "text": [
            " Time: 10m 55s Loss: 22064.1135 Acc: 0.0057\n"
          ]
        },
        {
          "output_type": "stream",
          "name": "stderr",
          "text": [
            "100%|██████████| 157/157 [00:30<00:00,  5.15it/s]\n"
          ]
        },
        {
          "output_type": "stream",
          "name": "stdout",
          "text": [
            " Time: 0m 31s Loss: 16652.7976 Acc: 0.0062\n",
            "----------\n",
            "Epoch 4/10\n"
          ]
        },
        {
          "output_type": "stream",
          "name": "stderr",
          "text": [
            "100%|██████████| 1563/1563 [10:54<00:00,  2.39it/s]\n"
          ]
        },
        {
          "output_type": "stream",
          "name": "stdout",
          "text": [
            " Time: 10m 54s Loss: 13420.8687 Acc: 0.0054\n"
          ]
        },
        {
          "output_type": "stream",
          "name": "stderr",
          "text": [
            "100%|██████████| 157/157 [00:31<00:00,  5.05it/s]\n"
          ]
        },
        {
          "output_type": "stream",
          "name": "stdout",
          "text": [
            " Time: 0m 31s Loss: 10621.8923 Acc: 0.0051\n",
            "----------\n",
            "Epoch 5/10\n"
          ]
        },
        {
          "output_type": "stream",
          "name": "stderr",
          "text": [
            "100%|██████████| 1563/1563 [10:55<00:00,  2.38it/s]\n"
          ]
        },
        {
          "output_type": "stream",
          "name": "stdout",
          "text": [
            " Time: 10m 56s Loss: 8586.7772 Acc: 0.0054\n"
          ]
        },
        {
          "output_type": "stream",
          "name": "stderr",
          "text": [
            "100%|██████████| 157/157 [00:31<00:00,  4.98it/s]\n"
          ]
        },
        {
          "output_type": "stream",
          "name": "stdout",
          "text": [
            " Time: 0m 32s Loss: 6843.5699 Acc: 0.0047\n",
            "----------\n",
            "Epoch 6/10\n"
          ]
        },
        {
          "output_type": "stream",
          "name": "stderr",
          "text": [
            "100%|██████████| 1563/1563 [10:54<00:00,  2.39it/s]\n"
          ]
        },
        {
          "output_type": "stream",
          "name": "stdout",
          "text": [
            " Time: 10m 55s Loss: 5667.1279 Acc: 0.0058\n"
          ]
        },
        {
          "output_type": "stream",
          "name": "stderr",
          "text": [
            "100%|██████████| 157/157 [00:32<00:00,  4.89it/s]\n"
          ]
        },
        {
          "output_type": "stream",
          "name": "stdout",
          "text": [
            " Time: 0m 32s Loss: 4633.4878 Acc: 0.0085\n",
            "----------\n",
            "Epoch 7/10\n"
          ]
        },
        {
          "output_type": "stream",
          "name": "stderr",
          "text": [
            "100%|██████████| 1563/1563 [10:54<00:00,  2.39it/s]\n"
          ]
        },
        {
          "output_type": "stream",
          "name": "stdout",
          "text": [
            " Time: 10m 55s Loss: 3829.5921 Acc: 0.0064\n"
          ]
        },
        {
          "output_type": "stream",
          "name": "stderr",
          "text": [
            "100%|██████████| 157/157 [00:30<00:00,  5.12it/s]\n"
          ]
        },
        {
          "output_type": "stream",
          "name": "stdout",
          "text": [
            " Time: 0m 31s Loss: 3171.1091 Acc: 0.0049\n",
            "----------\n",
            "Epoch 8/10\n"
          ]
        },
        {
          "output_type": "stream",
          "name": "stderr",
          "text": [
            "100%|██████████| 1563/1563 [10:55<00:00,  2.39it/s]\n"
          ]
        },
        {
          "output_type": "stream",
          "name": "stdout",
          "text": [
            " Time: 10m 55s Loss: 2583.3027 Acc: 0.0060\n"
          ]
        },
        {
          "output_type": "stream",
          "name": "stderr",
          "text": [
            "100%|██████████| 157/157 [00:30<00:00,  5.13it/s]\n"
          ]
        },
        {
          "output_type": "stream",
          "name": "stdout",
          "text": [
            " Time: 0m 31s Loss: 2163.2832 Acc: 0.0058\n",
            "----------\n",
            "Epoch 9/10\n"
          ]
        },
        {
          "output_type": "stream",
          "name": "stderr",
          "text": [
            "100%|██████████| 1563/1563 [10:54<00:00,  2.39it/s]\n"
          ]
        },
        {
          "output_type": "stream",
          "name": "stdout",
          "text": [
            " Time: 10m 55s Loss: 1761.8725 Acc: 0.0063\n"
          ]
        },
        {
          "output_type": "stream",
          "name": "stderr",
          "text": [
            "100%|██████████| 157/157 [00:32<00:00,  4.80it/s]\n"
          ]
        },
        {
          "output_type": "stream",
          "name": "stdout",
          "text": [
            " Time: 0m 33s Loss: 1486.4410 Acc: 0.0055\n",
            "----------\n",
            "Epoch 10/10\n"
          ]
        },
        {
          "output_type": "stream",
          "name": "stderr",
          "text": [
            "100%|██████████| 1563/1563 [10:55<00:00,  2.38it/s]\n"
          ]
        },
        {
          "output_type": "stream",
          "name": "stdout",
          "text": [
            " Time: 10m 55s Loss: 1234.4331 Acc: 0.0065\n"
          ]
        },
        {
          "output_type": "stream",
          "name": "stderr",
          "text": [
            "100%|██████████| 157/157 [00:30<00:00,  5.15it/s]"
          ]
        },
        {
          "output_type": "stream",
          "name": "stdout",
          "text": [
            " Time: 0m 30s Loss: 997.2356 Acc: 0.0048\n",
            "\n",
            "Training complete in 114m 21s\n",
            "Best val Acc: 0.008500\n"
          ]
        },
        {
          "output_type": "stream",
          "name": "stderr",
          "text": [
            "\n"
          ]
        }
      ]
    },
    {
      "cell_type": "markdown",
      "source": [
        "## Statistics plotting\n",
        "Here some statistics are plotted to give a visual representation of the results"
      ],
      "metadata": {
        "id": "-9pCMsL3KScg"
      }
    },
    {
      "cell_type": "markdown",
      "source": [
        "### Training time\n",
        "The average amount of seconds required to perform one epoch, which includes both training and validation phase"
      ],
      "metadata": {
        "id": "rfYciBVRKnpf"
      }
    },
    {
      "cell_type": "code",
      "source": [
        "# Plot the histogram for the parameters of the gMLPs and aMLPs\n",
        "groups = [\"Original\", \"Conv-Mean\", \"Attention\"]\n",
        "X_axis = np.arange(len(groups))\n",
        "\n",
        "#times values are obtained by dividing the time of the training process\n",
        "#by the number of epochs\n",
        "times = [502, 530, 686]\n",
        "  \n",
        "plt.bar(X_axis, times, 0.4, label = 'avg time')\n",
        "  \n",
        "plt.xticks(X_axis, groups)\n",
        "plt.xlabel(\"Models\")\n",
        "plt.ylabel(\"avg time per epoch (s)\")\n",
        "plt.title(\"Average time training per epoch\")\n",
        "plt.legend()\n",
        "plt.show()"
      ],
      "metadata": {
        "id": "J05DArFwK1aE",
        "colab": {
          "base_uri": "https://localhost:8080/",
          "height": 295
        },
        "outputId": "bc35aaaf-a2b4-44b5-b15c-ce167c459a0a"
      },
      "execution_count": null,
      "outputs": [
        {
          "output_type": "display_data",
          "data": {
            "text/plain": [
              "<Figure size 432x288 with 1 Axes>"
            ],
            "image/png": "[encoded data removed]"
          },
          "metadata": {
            "needs_background": "light"
          }
        }
      ]
    },
    {
      "cell_type": "markdown",
      "source": [
        "### Loss and accuracy"
      ],
      "metadata": {
        "id": "wszuS6KxL_ff"
      }
    },
    {
      "cell_type": "code",
      "source": [
        "X_axis = np.arange(epochs)\n",
        "\n",
        "#plot 1\n",
        "y1_t = np.array( [math.log(e) for e in stats_original[\"train\"]['loss'] ])\n",
        "y2_t = np.array( [math.log(e) for e in stats_conv[\"train\"]['loss'] ])\n",
        "y3_t = np.array( [math.log(e) for e in stats_att[\"train\"]['loss'] ])\n",
        "\n",
        "plt.subplot(1, 2, 1)\n",
        "plt.plot(X_axis, y1_t, label='orig')\n",
        "plt.plot(X_axis, y2_t, label='conv')\n",
        "plt.plot(X_axis, y3_t, label='attn')\n",
        "plt.xlabel(\"Epochs\")\n",
        "plt.ylabel(\"log(loss)\")\n",
        "plt.title(\"Training loss\")\n",
        "plt.legend()\n",
        "\n",
        "#plot 2\n",
        "y1_v = np.array( [math.log(e) for e in stats_original[\"val\"]['loss'] ])\n",
        "y2_v = np.array( [math.log(e) for e in stats_conv[\"val\"]['loss'] ])\n",
        "y3_v = np.array( [math.log(e) for e in stats_att[\"val\"]['loss'] ])\n",
        "\n",
        "plt.subplot(1, 2, 2)\n",
        "plt.plot(X_axis, y1_v, label='orig')\n",
        "plt.plot(X_axis, y2_v, label='conv')\n",
        "plt.plot(X_axis, y3_v, label='attn')\n",
        "plt.xlabel(\"Epochs\")\n",
        "plt.ylabel(\"log(loss)\")\n",
        "plt.title(\"Validation loss\")\n",
        "plt.legend()\n",
        "\n",
        "plt.tight_layout()\n",
        "plt.suptitle(\"LOSS\")\n",
        "plt.show()\n",
        "\n",
        "#-----------------------------------------\n",
        "\n",
        "#plot 1\n",
        "plt.subplot(1, 2, 1)\n",
        "plt.plot(X_axis, y1_t, label='train')\n",
        "plt.plot(X_axis, y1_v, label='val')\n",
        "plt.xlabel(\"Epochs\")\n",
        "plt.ylabel(\"log(loss)\")\n",
        "plt.title(\"Original config loss\")\n",
        "plt.legend()\n",
        "\n",
        "#plot 2\n",
        "plt.subplot(1, 2, 2)\n",
        "plt.plot(X_axis, y2_t, label='train')\n",
        "plt.plot(X_axis, y2_v, label='val')\n",
        "plt.xlabel(\"Epochs\")\n",
        "plt.ylabel(\"log(loss)\")\n",
        "plt.title(\"Conv-Mean config loss\")\n",
        "plt.legend()\n",
        "\n",
        "plt.tight_layout()\n",
        "plt.show()"
      ],
      "metadata": {
        "id": "e3r4rOcFMDL6",
        "colab": {
          "base_uri": "https://localhost:8080/",
          "height": 582
        },
        "outputId": "496bc21a-ef56-4146-af45-f457080c48bc"
      },
      "execution_count": null,
      "outputs": [
        {
          "output_type": "display_data",
          "data": {
            "text/plain": [
              "<Figure size 432x288 with 2 Axes>"
            ],
            "image/png": "[encoded data removed]"
          },
          "metadata": {
            "needs_background": "light"
          }
        },
        {
          "output_type": "display_data",
          "data": {
            "text/plain": [
              "<Figure size 432x288 with 2 Axes>"
            ],
            "image/png": "[encoded data removed]"
          },
          "metadata": {
            "needs_background": "light"
          }
        }
      ]
    },
    {
      "cell_type": "code",
      "source": [
        "X_axis = np.arange(epochs)\n",
        "\n",
        "#plot 1\n",
        "y1_t = np.array( [round(e*100, 2) for e in stats_original[\"train\"]['acc'] ])\n",
        "y2_t = np.array( [round(e*100, 2) for e in stats_conv[\"train\"]['acc'] ])\n",
        "y3_t = np.array( [round(e*100, 2) for e in stats_att[\"train\"]['acc'] ])\n",
        "\n",
        "plt.subplot(1, 2, 1)\n",
        "plt.plot(X_axis, y1_t, label='orig')\n",
        "plt.plot(X_axis, y2_t, label='conv')\n",
        "plt.plot(X_axis, y3_t, label='attn')\n",
        "plt.xlabel(\"Epochs\")\n",
        "plt.ylabel(\"Accuracy (%)\")\n",
        "plt.title(\"Training accuracy\")\n",
        "plt.legend()\n",
        "\n",
        "#plot 2\n",
        "y1_v = np.array( [round(e*100, 2) for e in stats_original[\"val\"]['acc'] ])\n",
        "y2_v = np.array( [round(e*100, 2) for e in stats_conv[\"val\"]['acc'] ])\n",
        "y3_v = np.array( [round(e*100, 2) for e in stats_att[\"val\"]['acc'] ])\n",
        "\n",
        "plt.subplot(1, 2, 2)\n",
        "plt.plot(X_axis, y1_v, label='orig')\n",
        "plt.plot(X_axis, y2_v, label='conv')\n",
        "plt.plot(X_axis, y3_v, label='attn')\n",
        "plt.xlabel(\"Epochs\")\n",
        "plt.ylabel(\"Accuracy (%)\")\n",
        "plt.title(\"Validation accuracy\")\n",
        "plt.legend()\n",
        "\n",
        "plt.tight_layout()\n",
        "plt.suptitle(\"ACCURACY\")\n",
        "plt.show()\n",
        "\n",
        "#-----------------------------------------\n",
        "\n",
        "#plot 1\n",
        "plt.subplot(1, 2, 1)\n",
        "plt.plot(X_axis, y1_t, label='train')\n",
        "plt.plot(X_axis, y1_v, label='val')\n",
        "plt.xlabel(\"Epochs\")\n",
        "plt.ylabel(\"Accuracy (%)\")\n",
        "plt.title(\"Original config accuracy\")\n",
        "plt.legend()\n",
        "\n",
        "#plot 2\n",
        "plt.subplot(1, 2, 2)\n",
        "plt.plot(X_axis, y2_t, label='train')\n",
        "plt.plot(X_axis, y2_v, label='val')\n",
        "plt.xlabel(\"Epochs\")\n",
        "plt.ylabel(\"Accuracy (%)\")\n",
        "plt.title(\"Conv-Mean config accuracy\")\n",
        "plt.legend()\n",
        "\n",
        "plt.tight_layout()\n",
        "plt.show()"
      ],
      "metadata": {
        "colab": {
          "base_uri": "https://localhost:8080/",
          "height": 582
        },
        "outputId": "fe4d5db2-6f73-4838-a188-4e47135c10ad",
        "id": "egqDEddlyBRh"
      },
      "execution_count": null,
      "outputs": [
        {
          "output_type": "display_data",
          "data": {
            "text/plain": [
              "<Figure size 432x288 with 2 Axes>"
            ],
            "image/png": "[encoded data removed]"
          },
          "metadata": {
            "needs_background": "light"
          }
        },
        {
          "output_type": "display_data",
          "data": {
            "text/plain": [
              "<Figure size 432x288 with 2 Axes>"
            ],
            "image/png": "[encoded data removed]"
          },
          "metadata": {
            "needs_background": "light"
          }
        }
      ]
    }
  ]
}